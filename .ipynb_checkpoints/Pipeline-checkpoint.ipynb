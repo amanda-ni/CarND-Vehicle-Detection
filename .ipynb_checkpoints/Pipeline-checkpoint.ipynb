{
 "cells": [
  {
   "cell_type": "markdown",
   "metadata": {},
   "source": [
    "# Pipeline to Detect Lanes\n",
    "---"
   ]
  },
  {
   "cell_type": "markdown",
   "metadata": {},
   "source": [
    "### Write a second (30 frames) to test image directory from a file"
   ]
  },
  {
   "cell_type": "code",
   "execution_count": null,
   "metadata": {},
   "outputs": [],
   "source": [
    "if True:\n",
    "\n",
    "    imagenumber = 0\n",
    "    def write_testims(img):\n",
    "        global imagenumber\n",
    "        newim = cv2.cvtColor(img, cv2.COLOR_BGR2RGB)\n",
    "        imname = 'test_images/process_video/process_video_frame_{:03}.jpg'.format(imagenumber)\n",
    "        cv2.imwrite(imname, newim)\n",
    "        imagenumber += 1\n",
    "        return img\n",
    "\n",
    "    from moviepy.editor import VideoFileClip\n",
    "    video_output1 = 'test_images/process_video/project_video.mp4'\n",
    "    video_input1 = VideoFileClip('input_videos/project_video.mp4').subclip(49,51)\n",
    "    processed_video = video_input1.fl_image(write_testims)\n",
    "    %time processed_video.write_videofile(video_output1, audio=False)\n"
   ]
  }
 ],
 "metadata": {
  "kernelspec": {
   "display_name": "Python 3",
   "language": "python",
   "name": "python3"
  },
  "language_info": {
   "codemirror_mode": {
    "name": "ipython",
    "version": 3
   },
   "file_extension": ".py",
   "mimetype": "text/x-python",
   "name": "python",
   "nbconvert_exporter": "python",
   "pygments_lexer": "ipython3",
   "version": "3.5.2"
  },
  "widgets": {
   "state": {},
   "version": "1.1.2"
  }
 },
 "nbformat": 4,
 "nbformat_minor": 2
}
